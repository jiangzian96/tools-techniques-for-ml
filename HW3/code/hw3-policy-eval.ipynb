{
 "cells": [
  {
   "cell_type": "markdown",
   "metadata": {},
   "source": [
    "## Homework 3: Offline Policy Value Estimation (i.e. Counterfactual evaluation)\n",
    "\n",
    "### Introduction\n",
    "In this lab, we're going to be reproducing a few results from http://proceedings.mlr.press/v97/vlassis19a.html, and extending their results in a few ways.  Here's an overview: We start by taking a multiclass classification problem and splitting it into train and test.  There are 26 classes, which we'll interpret as 26 possible actions to take for every input context. On the training set, we fit a multinomial logistic regression model to predict the correct label/best action.  Following the paper, we create a logging policy based on this model (details supplied in the relevant spot below).  We then generate \"logged bandit feedback\" for this logging policy using the **test** set.  Given this logged bandit feedback, we'll try out several different methods for estimating the value of various policies.  We'll also estimate the value of each of these policies using the full-feedback (i.e. the full observed rewards), and we'll treat that as the ground truth value for the purpose of performance assessment."
   ]
  },
  {
   "cell_type": "markdown",
   "metadata": {},
   "source": [
    "### Load and process data"
   ]
  },
  {
   "cell_type": "code",
   "execution_count": 1,
   "metadata": {},
   "outputs": [],
   "source": [
    "%load_ext autoreload\n",
    "%autoreload 2"
   ]
  },
  {
   "cell_type": "code",
   "execution_count": 35,
   "metadata": {},
   "outputs": [],
   "source": [
    "import abc\n",
    "\n",
    "from sklearn.linear_model import LogisticRegression, LogisticRegressionCV, RidgeCV, Ridge\n",
    "from sklearn.ensemble import RandomForestRegressor, GradientBoostingRegressor\n",
    "from sklearn.linear_model import LinearRegression\n",
    "from sklearn.model_selection import train_test_split\n",
    "import pandas as pd\n",
    "from pandas.api.types import is_integer_dtype\n",
    "import numpy as np\n",
    "from numpy.random import default_rng\n",
    "from scipy.special import expit\n",
    "import seaborn as sns\n",
    "import warnings;\n",
    "warnings.filterwarnings('ignore');\n",
    "import sys"
   ]
  },
  {
   "cell_type": "code",
   "execution_count": 3,
   "metadata": {},
   "outputs": [],
   "source": [
    "def get_fully_observed_bandit():\n",
    "    \"\"\"\n",
    "    This loads in a multiclass classification problem and reformulates it as a fully observed bandit problem.\n",
    "    \n",
    "    \"\"\"\n",
    "    df_l = pd.read_csv('data/letter-recognition.data',\n",
    "                       names = ['a']+[f'x{i}' for i in range(16)])\n",
    "    X = df_l.drop(columns=['a'])\n",
    "\n",
    "    # Convert labels to ints and one-hot\n",
    "    y = df_l['a']\n",
    "    # if y is not column of integers (that represent classes), then convert\n",
    "    if not is_integer_dtype(y.dtype):\n",
    "        y = y.astype('category').cat.codes\n",
    "\n",
    "    ## Full rewards\n",
    "    n = len(y)\n",
    "    k = max(y)+1\n",
    "    full_rewards = np.zeros([n, k])\n",
    "    full_rewards[np.arange(0,n),y] = 1\n",
    "    contexts = X\n",
    "    best_actions = y\n",
    "    return contexts, full_rewards, best_actions"
   ]
  },
  {
   "cell_type": "code",
   "execution_count": 4,
   "metadata": {},
   "outputs": [
    {
     "name": "stdout",
     "output_type": "stream",
     "text": [
      "There are 26 actions, the context space is 16 dimensional, and there are 20000 examples.\n",
      "For example, the first item has context vector:\n",
      "   x0  x1  x2  x3  x4  x5  x6  x7  x8  x9  x10  x11  x12  x13  x14  x15\n",
      "0   2   8   3   5   1   8  13   0   6   6   10    8    0    8    0    8.\n",
      "The best action is 19.  The reward for that action is 1 and all other actions get reward 0.\n",
      "The reward information is store in full_rewards as the row\n",
      "[0. 0. 0. 0. 0. 0. 0. 0. 0. 0. 0. 0. 0. 0. 0. 0. 0. 0. 0. 1. 0. 0. 0. 0.\n",
      " 0. 0.].\n"
     ]
    }
   ],
   "source": [
    "contexts, full_rewards, best_actions = get_fully_observed_bandit()\n",
    "n, k = full_rewards.shape\n",
    "_, d = contexts.shape\n",
    "print(f\"There are {k} actions, the context space is {d} dimensional, and there are {n} examples.\")\n",
    "print(f\"For example, the first item has context vector:\\n{contexts.iloc[0:1]}.\")\n",
    "print(f\"The best action is {best_actions[0]}.  The reward for that action is 1 and all other actions get reward 0.\")\n",
    "print(f\"The reward information is store in full_rewards as the row\\n{full_rewards[0]}.\")"
   ]
  },
  {
   "cell_type": "code",
   "execution_count": 5,
   "metadata": {},
   "outputs": [],
   "source": [
    "## Choose train/test indices\n",
    "rng = default_rng(7)\n",
    "train_frac = 0.5\n",
    "train_size = round(train_frac * n)\n",
    "train_idx = rng.choice(n, size = train_size, replace = False)\n",
    "test_idx = np.setdiff1d(np.arange(n), train_idx, assume_unique=True)"
   ]
  },
  {
   "cell_type": "markdown",
   "metadata": {},
   "source": [
    "### Policies\n",
    "In this section, we'll build out a Policy class, some specific policies, and evaluate policies on full-feedback data.\n",
    "\n",
    "**Problem 1.** Complete the Policy class and the UniformActionPolicy classes below. Run the code provided to get an estimate of the value of the uniform action policy using the test set.  Explain why the value you get makes sense."
   ]
  },
  {
   "cell_type": "code",
   "execution_count": 6,
   "metadata": {},
   "outputs": [],
   "source": [
    "class Policy:\n",
    "    def __init__(self, num_actions=2):\n",
    "        self.num_actions = num_actions\n",
    "\n",
    "    @abc.abstractmethod\n",
    "    def get_action_distribution(self, X):\n",
    "        \"\"\"   \n",
    "        This method is intended to be overridden by each implementation of Policy.\n",
    "\n",
    "        Args:\n",
    "            X (pd.DataFrame): contexts\n",
    "\n",
    "        Returns:\n",
    "            2-dim numpy array with the same number of rows as X and self.num_actions columns. \n",
    "                Each rows gives the policy's probability distribution over actions conditioned on the context in the corresponding row of X\n",
    "        \"\"\"   \n",
    "        raise NotImplementedError(\"Must override method\")\n",
    "\n",
    "    def get_action_propensities(self, X, actions):\n",
    "        \"\"\"   \n",
    "        Args:\n",
    "            X (pd.DataFrame): contexts, rows correspond to entries of actions\n",
    "            actions (np.array): actions taken, represented by integers, corresponding to rows of X\n",
    "\n",
    "        Returns:\n",
    "            1-dim numpy array of probabilities (same size as actions) for taking each action in its corresponding context\n",
    "        \"\"\"   \n",
    "        ## DONE\n",
    "        action_distribution = self.get_action_distribution(X)\n",
    "        return np.take_along_axis(action_distribution, actions.reshape(-1, 1), axis=1).flatten()\n",
    "\n",
    "    def select_actions(self, X, rng=default_rng(1)):\n",
    "        \"\"\"   \n",
    "        Args:\n",
    "            X (pd.DataFrame): contexts, rows correspond to entries of actions and propensities returned\n",
    "\n",
    "        Returns:\n",
    "            actions (np.array): 1-dim numpy array of length equal to the number of rows of X.  Each entry is an integer indicating the action selected for the corresponding context in X. \n",
    "                The action is selected randomly according to the policy, conditional on the context specified in the appropriate row of X.\n",
    "            propensities (np.array): 1-dim numpy array of length equal to the number of rows of X; gives the propensity for each action selected in actions\n",
    "\n",
    "        \"\"\"   \n",
    "        ## DONE\n",
    "        action_distribution = self.get_action_distribution(X)\n",
    "        actions = np.array([np.random.choice(26, 1, p=action_distribution[i]) for i in range(X.shape[0])]).flatten()\n",
    "        propensities = self.get_action_propensities(X, actions)\n",
    "        assert len(actions) == len(propensities) == X.shape[0]\n",
    "        \n",
    "        return actions, propensities\n",
    "        \n",
    "        \n",
    "    def get_value_estimate(self, X, full_rewards):\n",
    "        \"\"\"   \n",
    "        Args:\n",
    "            X (pd.DataFrame): contexts, rows correspond to entries of full_rewards\n",
    "            full_rewards (np.array): 2-dim numpy array with the same number of rows as X and self.num_actions columns; \n",
    "                each row gives the rewards that would be received for each action for the context in the corresponding row of X.\n",
    "                This would only be known in a full-feedback bandit, or estimated in a direct method\n",
    "\n",
    "        Returns:\n",
    "            scalar value giving the expected average reward received for playing the policy for contexts X and the given full_rewards\n",
    "\n",
    "        \"\"\"   \n",
    "        ## DONE\n",
    "        n = X.shape[0]\n",
    "        actions, propensities = self.select_actions(X)\n",
    "        action_distribution = self.get_action_distribution(X)\n",
    "        \n",
    "        return (full_rewards*action_distribution).sum()/n\n",
    "\n",
    "\n",
    "class UniformActionPolicy(Policy):\n",
    "    def __init__(self, num_actions=2):\n",
    "        self.num_actions = num_actions\n",
    "\n",
    "    def get_action_distribution(self, X):\n",
    "        ## DONE\n",
    "        return np.full((X.shape[0], self.num_actions), 1.0/self.num_actions)"
   ]
  },
  {
   "cell_type": "code",
   "execution_count": 7,
   "metadata": {},
   "outputs": [
    {
     "name": "stdout",
     "output_type": "stream",
     "text": [
      "The estimate of the value of the uniform action policy using the full-feedback test set is 0.038461538461538484.\n"
     ]
    }
   ],
   "source": [
    "X_train = contexts.iloc[train_idx].to_numpy()\n",
    "y_train = best_actions.iloc[train_idx].to_numpy()\n",
    "X_test = contexts.iloc[test_idx].to_numpy()\n",
    "y_test = best_actions.iloc[test_idx].to_numpy()\n",
    "full_rewards_test = full_rewards[test_idx]\n",
    "\n",
    "uniform_policy = UniformActionPolicy(num_actions=k)\n",
    "uniform_policy_value = uniform_policy.get_value_estimate(X=X_test, full_rewards=full_rewards_test)\n",
    "print(f\"The estimate of the value of the uniform action policy using the full-feedback test set is {uniform_policy_value}.\")"
   ]
  },
  {
   "cell_type": "markdown",
   "metadata": {},
   "source": [
    "This estimate of the value of this uniform action policy is $\\frac{1}{26}$. This makes sense because as the formulation of the value estimate suggests, $$V(\\pi) = \\frac{1}{n}\\sum_{i=1}^{n}\\sum_{a=1}^{k}[r(X_i, a)\\pi(a|X_i)],$$ in the inner sum every propensity score is $\\frac{1}{26}$ and only $1$ action out of $26$ has the reward $1$ while the rest is $0$. Thus, the inner sum is essentially $\\frac{1}{26}$. We add $\\frac{1}{26}$ up for $n$ times and take the average, which results in $\\frac{1}{26}$ as value."
   ]
  },
  {
   "cell_type": "markdown",
   "metadata": {},
   "source": [
    "**Problem 2.**  Complete the SKLearnPolicy class below and run the code that creates two policies and estimates their values using the full reward information in the test set.  You should find that the deterministic policy has a higher value than the stochastic policy.  Nevertheless, why might one choose to deploy the stochastic policy rather than the deterministic policy?"
   ]
  },
  {
   "cell_type": "code",
   "execution_count": 8,
   "metadata": {},
   "outputs": [
    {
     "name": "stdout",
     "output_type": "stream",
     "text": [
      "Stochastic policy true value 0.6261601174415055.\n",
      "Deterministic policy true value 0.7631.\n"
     ]
    }
   ],
   "source": [
    "## Develop more policies\n",
    "\n",
    "class SKLearnPolicy(Policy):\n",
    "    \"\"\" \n",
    "    An SKLearnPolicy uses a scikit learn model to generate an action distribution.  If the SKLearnPolicy is built with is_deterministic=False, \n",
    "    then the predict distribution for a context x should be whatever predict_proba for the model returns.  If is_deterministic=True, then all the probability mass \n",
    "    should be concentrated on whatever predict of the model returns.\n",
    "    \"\"\"\n",
    "    def __init__(self, model, num_actions=2, is_deterministic=False):\n",
    "        self.is_deterministic = is_deterministic\n",
    "        self.num_actions = num_actions\n",
    "        self.model = model\n",
    "\n",
    "    def get_action_distribution(self, X):\n",
    "        ## DONE\n",
    "        if (self.is_deterministic):\n",
    "            predictions = self.model.predict(X)\n",
    "            return np.eye(self.num_actions)[predictions.reshape(-1)] # one hot\n",
    "        else:\n",
    "            return self.model.predict_proba(X)\n",
    "\n",
    "\n",
    "    def select_actions(self, X, rng=default_rng(1)):\n",
    "        ## DONE\n",
    "        if (self.is_deterministic):\n",
    "            actions = self.model.predict(X)\n",
    "            propensities = np.full(len(actions), 1.0)\n",
    "            return actions, propensities\n",
    "        else:\n",
    "            actions, propensities = Policy.select_actions(self, X)\n",
    "            return actions, propensities\n",
    "\n",
    "model = LogisticRegression(multi_class='multinomial')\n",
    "model.fit(X_train, y_train)\n",
    "policy_stochastic = SKLearnPolicy(model=model, num_actions=k, is_deterministic=False)\n",
    "policy_deterministic = SKLearnPolicy(model=model, num_actions=k, is_deterministic=True)\n",
    "\n",
    "policy_stochastic_true_value = policy_stochastic.get_value_estimate(X_test, full_rewards_test)\n",
    "policy_deterministic_true_value = policy_deterministic.get_value_estimate(X_test, full_rewards_test)\n",
    "print(f\"Stochastic policy true value {policy_stochastic_true_value}.\")\n",
    "print(f\"Deterministic policy true value {policy_deterministic_true_value}.\")"
   ]
  },
  {
   "cell_type": "markdown",
   "metadata": {},
   "source": [
    "Since we know our training data is biased towards $\\pi_0$, the deterministic policy may also be biased and offeres no exploration. On the other hand the stochastic policy offers exploration by randomly selecting actions based on the action distribution trained from data. "
   ]
  },
  {
   "cell_type": "markdown",
   "metadata": {},
   "source": [
    "**Problem 3.** Fill in the VlassisLoggingPolicy class below, and evaluate the value of this logging policy using the code provided."
   ]
  },
  {
   "cell_type": "code",
   "execution_count": 9,
   "metadata": {},
   "outputs": [
    {
     "name": "stdout",
     "output_type": "stream",
     "text": [
      "The estimate of the value of the logging policy using the full-feedback test set is 0.04715720000000002.\n"
     ]
    }
   ],
   "source": [
    "class VlassisLoggingPolicy(Policy):\n",
    "    \"\"\"\n",
    "    This policy derives from another deterministic policy following the recipe described in the Vlassis et al paper, on the top of the second column in section 5.3.\n",
    "    For any context x, if the deterministic policy selects action a, then this policy selects action a with probability eps (a supplied parameter), and spreads the\n",
    "    rest of the probability mass uniformly over the other actions.\n",
    "    \"\"\"\n",
    "    def __init__(self, deterministic_target_policy, num_actions=2, eps=0.05):\n",
    "        self.num_actions = num_actions\n",
    "        self.target_policy = deterministic_target_policy\n",
    "        self.eps = eps\n",
    "\n",
    "    def get_action_distribution(self, X):\n",
    "        rest = (1.0-self.eps)/(self.num_actions-1)\n",
    "        actions, propensities = self.target_policy.select_actions(X)\n",
    "        action_distribution = np.eye(self.num_actions)[actions.reshape(-1)]*self.eps\n",
    "        action_distribution[action_distribution == 0.0] = rest\n",
    "        return action_distribution\n",
    "        \n",
    "    \n",
    "logging_policy = VlassisLoggingPolicy(policy_deterministic, num_actions=k, eps=0.05)\n",
    "logging_policy_value = logging_policy.get_value_estimate(X=X_test, full_rewards=full_rewards_test)\n",
    "print(f\"The estimate of the value of the logging policy using the full-feedback test set is {logging_policy_value}.\")"
   ]
  },
  {
   "cell_type": "markdown",
   "metadata": {},
   "source": [
    "### Simulate bandit feedback and on-policy evaluation\n",
    "**Problem 4.** Take a look at the generate_bandit_feedback function, so you understand how it works.  Then generate bandit feedback using the test data -- generate as many rounds are there are contexts in the test data. Use the result to generate an \"on-policy\" estimate of the value of the logging policy.  How does it compare to our \"ground truth\" estimate you found previously using the full-feedback test set? Repeat using 1/100th, 1/10th, and 10x as much bandit feedback, to see how much the value estimates change."
   ]
  },
  {
   "cell_type": "code",
   "execution_count": 10,
   "metadata": {},
   "outputs": [],
   "source": [
    "def generate_bandit_feedback(contexts, full_rewards, policy,\n",
    "                             new_n = None,\n",
    "                             rng=default_rng(1)):\n",
    "    \"\"\"   \n",
    "    Args:\n",
    "        contexts (np.array): contexts, rows correspond to entries of rewards\n",
    "        full_rewards (np.array): 2-dim numpy array with the same number of rows as X and number of columns corresponding to the number actions\n",
    "            each row gives the reward that would be received for each action for the context in the corresponding row of X. \n",
    "\n",
    "    Returns:\n",
    "        new_contexts (np.array): new_n rows and same number of columns as in contexts\n",
    "        actions (np.array): vector with new_n entries giving actions selected by the provided policy for the contexts in new_contexts\n",
    "        observed_rewards (np.array): vector with new_n entries giving actions selected by the provided policy for the contexts in new_contexts \n",
    "    \"\"\"   \n",
    "    \n",
    "    if new_n is None:\n",
    "        new_n = contexts.shape[0]\n",
    "    n, k = full_rewards.shape\n",
    "    num_repeats = np.ceil(new_n / n).astype(int)\n",
    "    new_contexts = np.tile(contexts, [num_repeats,1])\n",
    "    new_contexts = new_contexts[0:new_n]\n",
    "    new_rewards = np.tile(full_rewards, [num_repeats,1])\n",
    "    new_rewards = new_rewards[0:new_n]\n",
    "    actions, propensities = policy.select_actions(X=new_contexts, rng=rng)\n",
    "    observed_rewards = new_rewards[np.arange(new_n), actions]\n",
    "    return new_contexts, actions, observed_rewards, propensities"
   ]
  },
  {
   "cell_type": "code",
   "execution_count": 11,
   "metadata": {},
   "outputs": [],
   "source": [
    "n = full_rewards_test.shape[0]\n",
    "vals = []\n",
    "\n",
    "for n_ in [n/100, n/10, n, 10*n]:\n",
    "    new_contexts, actions, observed_rewards, propensities = generate_bandit_feedback(X_test, full_rewards_test,\\\n",
    "                                                                logging_policy, new_n=int(n_), rng=default_rng(1))\n",
    "    vals.append(sum(observed_rewards*propensities)/n)\n",
    "    "
   ]
  },
  {
   "cell_type": "code",
   "execution_count": 12,
   "metadata": {},
   "outputs": [
    {
     "data": {
      "text/plain": [
       "<matplotlib.legend.Legend at 0x203a58179a0>"
      ]
     },
     "execution_count": 12,
     "metadata": {},
     "output_type": "execute_result"
    },
    {
     "data": {
      "image/png": "[encoded data removed]",
      "text/plain": [
       "<Figure size 432x288 with 1 Axes>"
      ]
     },
     "metadata": {
      "needs_background": "light"
     },
     "output_type": "display_data"
    }
   ],
   "source": [
    "import matplotlib.pyplot as plt\n",
    "\n",
    "plt.plot([n/100, n/10, n, 10*n], vals, \"--o\", label=\"bandit feedback\")\n",
    "plt.xlabel(\"amount of bandit feedback\")\n",
    "plt.ylabel(\"Value estimates\")\n",
    "plt.hlines(logging_policy_value, xmin=0, xmax=100000, label=\"full feedback\", color=\"r\")\n",
    "plt.legend(loc=4)"
   ]
  },
  {
   "cell_type": "markdown",
   "metadata": {},
   "source": [
    "As we can see, with more bandit feedback, the higher the value estimate will be."
   ]
  },
  {
   "cell_type": "markdown",
   "metadata": {},
   "source": [
    "### Test out off-policy value estimators\n",
    "**Problem 5.** Complete the get_value_estimators function below, per the specification.  Include the following estimators\n",
    "- Unweighted mean (done for you)\n",
    "- Importance-weighted (IW) value estimator\n",
    "- Self-normalized IW mean\n",
    "- Direct method with linear ridge regression reward predictor fit for each action\n",
    "- Direct method with IW-linear ridge regression reward predictor fit for each action\n",
    "- [Optional (not for credit)] Direct method with a non-linear reward predictor fit for each action\n",
    "- [Optional (not for credit)] Direct method with a non-linear reward predictor fit for all actions at once (action becomes part of the input)\n",
    "\n",
    "Run the code below that will apply your value estimators to a policy on logged bandit feedback. Verify that your results are reasonable. (Don't worry if your numbers are not a very close match for the results in the table.)"
   ]
  },
  {
   "cell_type": "code",
   "execution_count": 100,
   "metadata": {},
   "outputs": [],
   "source": [
    "## Build our value estimators\n",
    "\n",
    "def get_value_estimators(policy, contexts, actions, rewards, propensities, skip_slow_stuff=False):\n",
    "    \"\"\"   \n",
    "    Args:\n",
    "        policy (Policy): the policy we want to get a value estimate for\n",
    "        contexts (np.array): contexts from bandit feedback\n",
    "        actions (np.array): actions chosen for bandit feedback\n",
    "        rewards (np.array): rewards received in bandit feedback\n",
    "        propensities (np.array): the propensity for each action selected under the logging policy (which is not provided to this function)\n",
    "        skip_slow_stuff (boolean): boolean flag which allows you to turn on/off some slow estimators (ignore this if you like)\n",
    "    Returns:\n",
    "        est (dict): keys are string describing the value estimator, values are the corresponding value estimates \n",
    "    \"\"\"   \n",
    "\n",
    "    est = {}\n",
    "    est[\"mean\"] = np.mean(rewards)\n",
    "    \n",
    "    ## DONE\n",
    "    pi_w = policy.get_action_propensities(contexts, actions)\n",
    "    \n",
    "    assert len(rewards) == len(pi_w) == len(propensities)\n",
    "    importance_weights = pi_w/propensities\n",
    "    \n",
    "    est[\"IW\"] = np.mean(rewards*importance_weights)\n",
    "    est[\"SNIW\"] = np.sum(rewards*importance_weights) / np.sum(importance_weights)\n",
    "    \n",
    "    if not skip_slow_stuff:\n",
    "        models = []\n",
    "        for i in range(26):\n",
    "            idx = actions == i\n",
    "            X = contexts[idx]\n",
    "            y = rewards[idx]\n",
    "            model = Ridge()\n",
    "            model.fit(X, y)\n",
    "            models.append(model)\n",
    "            \n",
    "        n = len(actions)\n",
    "        res = 0.0\n",
    "        for i in range(n):\n",
    "            X_i = contexts[i].reshape(1, -1)\n",
    "            all_action_propensities = policy.get_action_propensities(X_i, np.arange(26))\n",
    "            predicted_rewards = []\n",
    "            for a in range(26):\n",
    "                model = models[a]\n",
    "                predicted_reward = model.predict(X_i)[0]\n",
    "                predicted_rewards.append(predicted_reward)\n",
    "            res += sum(all_action_propensities * np.asarray(predicted_rewards))\n",
    "        est[\"Ridge\"] = res/n\n",
    "        \n",
    "        \n",
    "        models = []\n",
    "        for i in range(26):\n",
    "            idx = actions == i\n",
    "            X = contexts[idx]\n",
    "            y = rewards[idx]\n",
    "            p_0 = propensities[idx]\n",
    "            p_w = policy.get_action_propensities(X, np.full(X.shape[0], i, dtype=int))\n",
    "            sample_weights = p_w/p_0\n",
    "            model = Ridge()\n",
    "            model.fit(X, y, sample_weights)\n",
    "            models.append(model)\n",
    "            \n",
    "        n = len(actions)\n",
    "        res = 0.0\n",
    "        for i in range(n):\n",
    "            X_i = contexts[i].reshape(1, -1)\n",
    "            propensities = policy.get_action_propensities(X_i, np.arange(26))\n",
    "            predicted_rewards = []\n",
    "            for a in range(26):\n",
    "                model = models[a]\n",
    "                predicted_reward = model.predict(X_i)[0]\n",
    "                predicted_rewards.append(predicted_reward)\n",
    "            res += sum(propensities*np.asarray(predicted_rewards))\n",
    "        est[\"Ridge_IW\"] = res/n\n",
    "        \n",
    "    return est\n"
   ]
  },
  {
   "cell_type": "code",
   "execution_count": 101,
   "metadata": {},
   "outputs": [],
   "source": [
    "def get_estimator_stats(estimates, true_parameter_value=None):\n",
    "    \"\"\"\n",
    " \n",
    "     Args:\n",
    "        estimates (pd.DataFrame): each row corresponds to collection of estimates for a sample and\n",
    "            each column corresponds to an estimator\n",
    "        true_parameter_value (float): the true parameter value that we will be comparing estimates to\n",
    "            \n",
    "    Returns:\n",
    "        pd.Dataframe where each row represents data about a single estimator\n",
    "    \"\"\"\n",
    "    \n",
    "    est_stat = []\n",
    "    for est in estimates.columns:\n",
    "        pred_means = estimates[est]\n",
    "        stat = {}\n",
    "        stat['stat'] = est\n",
    "        stat['mean'] = np.mean(pred_means)\n",
    "        stat['SD'] = np.std(pred_means)\n",
    "        stat['SE'] = np.std(pred_means) / np.sqrt(len(pred_means))\n",
    "        if true_parameter_value:\n",
    "            stat['bias'] = stat['mean'] - true_parameter_value\n",
    "            stat['RMSE'] = np.sqrt(np.mean((pred_means - true_parameter_value) ** 2))\n",
    "        est_stat.append(stat)\n",
    "\n",
    "    return pd.DataFrame(est_stat)"
   ]
  },
  {
   "cell_type": "code",
   "execution_count": 102,
   "metadata": {},
   "outputs": [
    {
     "name": "stdout",
     "output_type": "stream",
     "text": [
      "policy true value 0.7631.\n"
     ]
    },
    {
     "data": {
      "text/plain": [
       "{'mean': 0.0482,\n",
       " 'IW': 0.816,\n",
       " 'SNIW': 0.783109404990403,\n",
       " 'Ridge': 0.27112898219944515,\n",
       " 'Ridge_IW': 0.7623822729000462}"
      ]
     },
     "execution_count": 102,
     "metadata": {},
     "output_type": "execute_result"
    }
   ],
   "source": [
    "contexts_test, actions_test, rewards_test, propensities_test = generate_bandit_feedback(contexts=X_test, full_rewards=full_rewards_test, policy=logging_policy, rng=default_rng(6))\n",
    "policy = policy_deterministic\n",
    "est = get_value_estimators(policy, contexts_test, actions_test, rewards_test, propensities_test)\n",
    "policy_true_value = policy.get_value_estimate(X_test, full_rewards_test)\n",
    "print(f\"policy true value {policy_true_value}.\")\n",
    "df = pd.DataFrame(est, index=[0])\n",
    "est"
   ]
  },
  {
   "cell_type": "markdown",
   "metadata": {},
   "source": [
    "**Problem 6.** Run the code below to test your value estimators across multiple trials.  Write a few sentences about anything you learned from these experiments or that you find interesting."
   ]
  },
  {
   "cell_type": "code",
   "execution_count": 103,
   "metadata": {},
   "outputs": [
    {
     "name": "stdout",
     "output_type": "stream",
     "text": [
      "       stat      mean        SD        SE      bias      RMSE\n",
      "0      mean  0.046790  0.002009  0.000449 -0.716310  0.716313\n",
      "1        IW  0.762100  0.030799  0.006887 -0.001000  0.030815\n",
      "2      SNIW  0.762522  0.012827  0.002868 -0.000578  0.012841\n",
      "3     Ridge  0.266487  0.009019  0.002017 -0.496613  0.496695\n",
      "4  Ridge_IW  0.791159  0.031913  0.007136  0.028059  0.042494\n"
     ]
    }
   ],
   "source": [
    "trials=20\n",
    "val_ests = []\n",
    "policy = policy_deterministic\n",
    "policy_true_value = policy.get_value_estimate(X_test, full_rewards_test)\n",
    "rng=default_rng(6)\n",
    "for i in range(trials):\n",
    "    contexts, actions, rewards, propensities = generate_bandit_feedback(X_test, full_rewards_test, logging_policy, rng=rng)\n",
    "    est = get_value_estimators(policy, contexts, actions, rewards, propensities)\n",
    "    val_ests.append(est)\n",
    "\n",
    "df = pd.DataFrame(val_ests)\n",
    "print(get_estimator_stats(df, true_parameter_value=policy_true_value))"
   ]
  },
  {
   "cell_type": "code",
   "execution_count": 104,
   "metadata": {},
   "outputs": [
    {
     "name": "stdout",
     "output_type": "stream",
     "text": [
      "       stat      mean        SD        SE      bias      RMSE\n",
      "0      mean  0.047580  0.001715  0.000384 -0.578580  0.578583\n",
      "1        IW  0.634605  0.022671  0.005069  0.008445  0.024192\n",
      "2      SNIW  0.628373  0.012770  0.002856  0.002213  0.012961\n",
      "3     Ridge  0.254693  0.007423  0.001660 -0.371467  0.371541\n",
      "4  Ridge_IW  0.610243  0.016766  0.003749 -0.015918  0.023118\n"
     ]
    }
   ],
   "source": [
    "trials=20\n",
    "val_ests = []\n",
    "policy = policy_stochastic\n",
    "policy_true_value = policy.get_value_estimate(X_test, full_rewards_test)\n",
    "rng=default_rng(6)\n",
    "for i in range(trials):\n",
    "    contexts, actions, rewards, propensities = generate_bandit_feedback(X_test, full_rewards_test, logging_policy, rng=rng)\n",
    "    est = get_value_estimators(policy, contexts, actions, rewards, propensities)\n",
    "    val_ests.append(est)\n",
    "\n",
    "df = pd.DataFrame(val_ests)\n",
    "print(get_estimator_stats(df, true_parameter_value=policy_true_value))"
   ]
  },
  {
   "cell_type": "code",
   "execution_count": 105,
   "metadata": {},
   "outputs": [
    {
     "name": "stdout",
     "output_type": "stream",
     "text": [
      "       stat      mean        SD        SE      bias      RMSE\n",
      "0      mean  0.047705  0.002322  0.000519  0.009243  0.009531\n",
      "1        IW  0.038915  0.001803  0.000403  0.000454  0.001859\n",
      "2      SNIW  0.038921  0.001826  0.000408  0.000460  0.001883\n",
      "3     Ridge  0.044560  0.001578  0.000353  0.006099  0.006299\n",
      "4  Ridge_IW  0.038709  0.001403  0.000314  0.000247  0.001425\n"
     ]
    }
   ],
   "source": [
    "trials=20\n",
    "val_ests = []\n",
    "policy = uniform_policy\n",
    "policy_true_value = policy.get_value_estimate(X_test, full_rewards_test)\n",
    "rng=default_rng(6)\n",
    "for i in range(trials):\n",
    "    contexts, actions, rewards, propensities = generate_bandit_feedback(X_test, full_rewards_test, logging_policy, rng=rng)\n",
    "    est = get_value_estimators(policy, contexts, actions, rewards, propensities)\n",
    "    val_ests.append(est)\n",
    "\n",
    "df = pd.DataFrame(val_ests)\n",
    "print(get_estimator_stats(df, true_parameter_value=policy_true_value))"
   ]
  },
  {
   "cell_type": "markdown",
   "metadata": {},
   "source": [
    "As we can see across the 3 policies, uniform policy has a very low value. Stochastic and deterministic policies are more preferable. Also, importance weighting is very important due to the selection bias; this is true in both reward imputation and importance weighting. Of course, they are all better than the naive unweighted mean estimate. Also, using self-normalized weights on top of importance weighting gives the best result generally."
   ]
  }
 ],
 "metadata": {
  "kernelspec": {
   "display_name": "Python 3",
   "language": "python",
   "name": "python3"
  },
  "language_info": {
   "codemirror_mode": {
    "name": "ipython",
    "version": 3
   },
   "file_extension": ".py",
   "mimetype": "text/x-python",
   "name": "python",
   "nbconvert_exporter": "python",
   "pygments_lexer": "ipython3",
   "version": "3.8.5"
  }
 },
 "nbformat": 4,
 "nbformat_minor": 5
}
