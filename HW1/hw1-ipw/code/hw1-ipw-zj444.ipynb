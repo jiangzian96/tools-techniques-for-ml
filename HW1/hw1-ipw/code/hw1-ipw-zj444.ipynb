{
 "cells": [
  {
   "cell_type": "markdown",
   "metadata": {},
   "source": [
    "# Homework 1: Missing Data and inverse propensity weighting"
   ]
  },
  {
   "cell_type": "code",
   "execution_count": 1,
   "metadata": {},
   "outputs": [],
   "source": [
    "%load_ext autoreload\n",
    "%autoreload 2"
   ]
  },
  {
   "cell_type": "code",
   "execution_count": 2,
   "metadata": {},
   "outputs": [],
   "source": [
    "import scipy\n",
    "import pandas as pd\n",
    "import numpy as np\n",
    "from numpy.random import default_rng\n",
    "import seaborn as sns\n",
    "from tools import KangSchafSampler, get_estimator_stats\n",
    "from sklearn.linear_model import LogisticRegression\n",
    "from sklearn.ensemble import RandomForestClassifier\n",
    "\n",
    "from sklearn.ensemble import GradientBoostingClassifier"
   ]
  },
  {
   "cell_type": "markdown",
   "metadata": {},
   "source": [
    "## Kang & Schafer Simulated Dataset\n",
    "\n",
    "The sampling distribution provided in `sampler.py` (KangSchafSampler) was based on Kang and Schafer's [Demystifying Double Robustness: A Comparison of Alternative Strategies for Estimating a Population Mean from Incomplete Data](https://projecteuclid.org/download/pdfview_1/euclid.ss/1207580167) in Section 1.4. They describe the motivation for the simulated dataset in the discussion at the end:\n",
    "\n",
    ">\"We constructed our simulation to vaguely resemble a quasi-experiment to measure the effect of\n",
    "dieting on body mass index (BMI) in a large sample of high-school students. The study has a pre-post\n",
    "design. Covariates $x_i$ measured at baseline include\n",
    "demographic variables, BMI, self-perceived weight\n",
    "and physical fitness, social acceptance and personality measures. The treatment $t_i$ is dieting (0 = yes, 1 =\n",
    "no) and the outcome $y_i$ is BMI one year later. The goal\n",
    "is to estimate an average causal effect of dieting among\n",
    "those who actually dieted. For that purpose, it suffices\n",
    "to treat the dieters as nonrespondents, set their BMI\n",
    "values to missing, and apply a missing-data method\n",
    "to estimate what the mean BMI for this group would\n",
    "have been had they not dieted.\"\n",
    "\n",
    "In terms of the missing data and response bias problem that we've been studying, Kang and Schafer are interested in the situation where we are not given the propensity scores of our observations, but rather we have to estimate the propensity score function from data using a model.  They consider two cases: 1) The model we're fitting is \"correct\", in the sense that the true propensity score function is in the parameterized set of functions of our model. In machine learning terminology, we would just say that the hypothesis space has 0 approximation error. 2) The model we're fitting is \"incorrect\", in the sense that the true propensity score function is not in our model (i.e. there is nonzero approximation error). \n",
    "\n",
    "To simulate these two cases, they create a simple data generating distribution where each response $y$ is an affine function of a covariate vector $z$, plus Gaussian noise.  Similarly, the response probability is determined by a logistic regression model on $z$:\n",
    "* Covariate: $z=(z_1, z_2, z_3, z_4) \\sim N(0, I_{4x4})$\n",
    "* Response: $y = 210 + 27.4z_1 + 13.7z_2 + 13.7z_3 + 13.7z_4 + \\epsilon$ where $\\epsilon \\sim N(0,1)$\n",
    "* Propensity: $\\pi = expit(-z_1 + 0.5z_2 - 0.25z_3 - 0.1z_4)$ which is called `obs_prob` in code below\n",
    "* $r = Bernoull(\\pi)$ is the response indicator, which is called `obs` in code below\n",
    "\n",
    "Using logistic regression on $z$ would be a \"correct\" model in this case. To simulate an \"incorrect\" model, they introduce a new covariate $x=(x_1, x_2, x_3, x_4)$, which is a complicated nonlinear transform of $z$.  (See `transform_z` from `KangSchafSampler.get_x` in tools.py for the explicit mapping -- although in \"real life\" you would not know this transform function.) They then investigate using logistic regression on $x$ to model the propensity score function.  This is clearly an \"incorrect\" model, since logistic regression has a linear dependence on $x$, while the true model has a nonlinear dependence on $x$.\n",
    "\n",
    "In the notebook below, we'll compare using incorrect and correct models in this setting, and we'll also see if we can improve the situation by using modern nonlinear ML models for the propensity function based on $x$.\n",
    "\n",
    "For our sampling distribution:\n",
    "* Overall mean of y = 210\n",
    "* Mean of observed y = 200 \n",
    "* Mean of missing y = 220\n",
    "* Response rate = 0.5\n",
    "\n",
    "Our goal below is to use the observed data to estimate the overall mean of y.  We'll evaluate performance using RMSE between our estimates and 210, which we know to be the actual overall mean.  \n",
    "\n",
    "To start our investigation, we'll visualize the distribution of each component of $x$ for the complete and incomplete cases (corresponding to `obs=True` and `obs=False`."
   ]
  },
  {
   "cell_type": "code",
   "execution_count": 3,
   "metadata": {
    "scrolled": true
   },
   "outputs": [
    {
     "data": {
      "text/html": [
       "<div>\n",
       "<style scoped>\n",
       "    .dataframe tbody tr th:only-of-type {\n",
       "        vertical-align: middle;\n",
       "    }\n",
       "\n",
       "    .dataframe tbody tr th {\n",
       "        vertical-align: top;\n",
       "    }\n",
       "\n",
       "    .dataframe thead th {\n",
       "        text-align: right;\n",
       "    }\n",
       "</style>\n",
       "<table border=\"1\" class=\"dataframe\">\n",
       "  <thead>\n",
       "    <tr style=\"text-align: right;\">\n",
       "      <th></th>\n",
       "      <th>z1</th>\n",
       "      <th>z2</th>\n",
       "      <th>z3</th>\n",
       "      <th>z4</th>\n",
       "      <th>x1</th>\n",
       "      <th>x2</th>\n",
       "      <th>x3</th>\n",
       "      <th>x4</th>\n",
       "      <th>obs_prob</th>\n",
       "      <th>obs</th>\n",
       "      <th>y</th>\n",
       "    </tr>\n",
       "  </thead>\n",
       "  <tbody>\n",
       "    <tr>\n",
       "      <th>0</th>\n",
       "      <td>1.254448</td>\n",
       "      <td>0.776902</td>\n",
       "      <td>0.964881</td>\n",
       "      <td>-1.082178</td>\n",
       "      <td>1.872406</td>\n",
       "      <td>10.172419</td>\n",
       "      <td>0.272622</td>\n",
       "      <td>387.882139</td>\n",
       "      <td>0.269138</td>\n",
       "      <td>True</td>\n",
       "      <td>252.441072</td>\n",
       "    </tr>\n",
       "    <tr>\n",
       "      <th>1</th>\n",
       "      <td>0.867017</td>\n",
       "      <td>-0.168161</td>\n",
       "      <td>-0.189661</td>\n",
       "      <td>1.120566</td>\n",
       "      <td>1.542661</td>\n",
       "      <td>9.950245</td>\n",
       "      <td>0.208974</td>\n",
       "      <td>439.003304</td>\n",
       "      <td>0.265858</td>\n",
       "      <td>True</td>\n",
       "      <td>244.895501</td>\n",
       "    </tr>\n",
       "    <tr>\n",
       "      <th>2</th>\n",
       "      <td>-0.436779</td>\n",
       "      <td>-1.279645</td>\n",
       "      <td>-0.469500</td>\n",
       "      <td>-1.196827</td>\n",
       "      <td>0.803812</td>\n",
       "      <td>9.222627</td>\n",
       "      <td>0.224981</td>\n",
       "      <td>307.074015</td>\n",
       "      <td>0.508503</td>\n",
       "      <td>False</td>\n",
       "      <td>156.990005</td>\n",
       "    </tr>\n",
       "    <tr>\n",
       "      <th>3</th>\n",
       "      <td>-1.839857</td>\n",
       "      <td>-0.145557</td>\n",
       "      <td>0.398279</td>\n",
       "      <td>-2.162061</td>\n",
       "      <td>0.398548</td>\n",
       "      <td>9.874394</td>\n",
       "      <td>0.185865</td>\n",
       "      <td>313.020372</td>\n",
       "      <td>0.868037</td>\n",
       "      <td>False</td>\n",
       "      <td>133.941012</td>\n",
       "    </tr>\n",
       "    <tr>\n",
       "      <th>4</th>\n",
       "      <td>0.014477</td>\n",
       "      <td>0.255198</td>\n",
       "      <td>0.173191</td>\n",
       "      <td>-1.270094</td>\n",
       "      <td>1.007265</td>\n",
       "      <td>10.126675</td>\n",
       "      <td>0.216108</td>\n",
       "      <td>360.434196</td>\n",
       "      <td>0.549050</td>\n",
       "      <td>False</td>\n",
       "      <td>197.966340</td>\n",
       "    </tr>\n",
       "  </tbody>\n",
       "</table>\n",
       "</div>"
      ],
      "text/plain": [
       "         z1        z2        z3        z4        x1         x2        x3  \\\n",
       "0  1.254448  0.776902  0.964881 -1.082178  1.872406  10.172419  0.272622   \n",
       "1  0.867017 -0.168161 -0.189661  1.120566  1.542661   9.950245  0.208974   \n",
       "2 -0.436779 -1.279645 -0.469500 -1.196827  0.803812   9.222627  0.224981   \n",
       "3 -1.839857 -0.145557  0.398279 -2.162061  0.398548   9.874394  0.185865   \n",
       "4  0.014477  0.255198  0.173191 -1.270094  1.007265  10.126675  0.216108   \n",
       "\n",
       "           x4  obs_prob    obs           y  \n",
       "0  387.882139  0.269138   True  252.441072  \n",
       "1  439.003304  0.265858   True  244.895501  \n",
       "2  307.074015  0.508503  False  156.990005  \n",
       "3  313.020372  0.868037  False  133.941012  \n",
       "4  360.434196  0.549050  False  197.966340  "
      ]
     },
     "execution_count": 3,
     "metadata": {},
     "output_type": "execute_result"
    }
   ],
   "source": [
    "sampler = KangSchafSampler(rng=default_rng(27))\n",
    "s = sampler.sample(n=200)\n",
    "s.head() "
   ]
  },
  {
   "cell_type": "code",
   "execution_count": 4,
   "metadata": {
    "scrolled": true
   },
   "outputs": [
    {
     "data": {
      "image/png": "[encoded data removed]",
      "text/plain": [
       "<Figure size 1440x360 with 4 Axes>"
      ]
     },
     "metadata": {
      "needs_background": "light"
     },
     "output_type": "display_data"
    }
   ],
   "source": [
    "df_long = pd.melt(s[['x1', 'x2', 'x3', 'x4', 'obs']], \"obs\", var_name=\"x\", value_name=\"val\")\n",
    "g = sns.catplot(x=\"obs\", y=\"val\", col=\"x\", data=df_long, kind=\"box\", sharey=False)"
   ]
  },
  {
   "cell_type": "markdown",
   "metadata": {},
   "source": [
    "From the box plot, we can see from the $x_1$ plot, in particular, that values are not missing completely at random.  This justifies the additional complexity of using estimators for the MAR setting, rather than just a complete-case estimator."
   ]
  },
  {
   "cell_type": "markdown",
   "metadata": {},
   "source": [
    "### Problem 1"
   ]
  },
  {
   "cell_type": "markdown",
   "metadata": {},
   "source": [
    "**PART A:** Create a function that calculates the IPW and self-normalized IPW mean estimators from a sample. Additionally, include a total of the weights associated to *observed* outcomes. We will use this function below. "
   ]
  },
  {
   "cell_type": "code",
   "execution_count": 5,
   "metadata": {},
   "outputs": [
    {
     "data": {
      "text/plain": [
       "212.3640228092415"
      ]
     },
     "execution_count": 5,
     "metadata": {},
     "output_type": "execute_result"
    }
   ],
   "source": [
    "np.mean(s.obs_prob.astype(float)*s.y/s.obs_prob)"
   ]
  },
  {
   "cell_type": "code",
   "execution_count": 6,
   "metadata": {},
   "outputs": [],
   "source": [
    "def ipw_estimators(obs_prob, obs, outcome):\n",
    "    \"\"\"\n",
    "    \n",
    "    Args:\n",
    "        obs_prob (pd.Series): probabilities that y_i were observed (i.e. propensities)\n",
    "        obs (pd.Series): boolean series that tells whether value was observed or not\n",
    "        outcome (pd.Series): the measurement of the outcome y_i\n",
    "    \n",
    "    Returns:\n",
    "        dict: {'ipw': ipw, 'sn_ipw': sn_ipw, 'total_weight': total_weight}\n",
    "    \"\"\"\n",
    "    ipw = np.mean(obs.astype(float) * outcome / obs_prob)\n",
    "    sn_ipw = np.sum(obs.astype(float) * outcome / obs_prob) / np.sum(obs.astype(float) / obs_prob)\n",
    "    total_weight = np.sum(obs.astype(float) / obs_prob)\n",
    "    \n",
    "    return {'ipw': ipw, 'sn_ipw': sn_ipw, 'total_weight': total_weight}"
   ]
  },
  {
   "cell_type": "markdown",
   "metadata": {},
   "source": [
    "**PART B:** Run 1000 trials of the following: 1) Draw a sample `sample_size=200` from the sampler defined above. 2) Get the ipw and sn_ipw estimates of the overall mean using the `ipw_estimators()` function you created above.  For this simulation, use the true propensities for each observation, which are given in the `obs_prob` column of the dataframe returned by the sampler. Collect all these results into a dataframe. So that we can use the `get_estimator_stats` function below, each row of the resulting dataframe should correspond to a single trial and each column should correspond to an estimator (either ipw or sn_ipw)."
   ]
  },
  {
   "cell_type": "code",
   "execution_count": 7,
   "metadata": {},
   "outputs": [],
   "source": [
    "data = []\n",
    "total_weights = []\n",
    "for i in range(1000):\n",
    "    s = sampler.sample(n=200)\n",
    "    d = ipw_estimators(s.obs_prob, s.obs, s.y)\n",
    "    data.append((d[\"ipw\"], d[\"sn_ipw\"]))\n",
    "    total_weights.append(d[\"total_weight\"])\n",
    "estimates = pd.DataFrame.from_records(data, columns=[\"ipw\", \"sn_ipw\"])"
   ]
  },
  {
   "cell_type": "markdown",
   "metadata": {},
   "source": [
    "**PART C:** Compute the bias, variance, and RMSE of the IPW and the self-normalized IPW estimators using `get_estimator_stats` from tools.py (already imported). Briefly summarize your findings."
   ]
  },
  {
   "cell_type": "code",
   "execution_count": 8,
   "metadata": {},
   "outputs": [
    {
     "data": {
      "text/html": [
       "<div>\n",
       "<style scoped>\n",
       "    .dataframe tbody tr th:only-of-type {\n",
       "        vertical-align: middle;\n",
       "    }\n",
       "\n",
       "    .dataframe tbody tr th {\n",
       "        vertical-align: top;\n",
       "    }\n",
       "\n",
       "    .dataframe thead th {\n",
       "        text-align: right;\n",
       "    }\n",
       "</style>\n",
       "<table border=\"1\" class=\"dataframe\">\n",
       "  <thead>\n",
       "    <tr style=\"text-align: right;\">\n",
       "      <th></th>\n",
       "      <th>stat</th>\n",
       "      <th>mean</th>\n",
       "      <th>SD</th>\n",
       "      <th>SE</th>\n",
       "      <th>bias</th>\n",
       "      <th>RMSE</th>\n",
       "    </tr>\n",
       "  </thead>\n",
       "  <tbody>\n",
       "    <tr>\n",
       "      <th>0</th>\n",
       "      <td>ipw</td>\n",
       "      <td>209.404779</td>\n",
       "      <td>24.185898</td>\n",
       "      <td>0.764825</td>\n",
       "      <td>-0.595221</td>\n",
       "      <td>24.193221</td>\n",
       "    </tr>\n",
       "    <tr>\n",
       "      <th>1</th>\n",
       "      <td>sn_ipw</td>\n",
       "      <td>209.597428</td>\n",
       "      <td>4.841999</td>\n",
       "      <td>0.153117</td>\n",
       "      <td>-0.402572</td>\n",
       "      <td>4.858705</td>\n",
       "    </tr>\n",
       "  </tbody>\n",
       "</table>\n",
       "</div>"
      ],
      "text/plain": [
       "     stat        mean         SD        SE      bias       RMSE\n",
       "0     ipw  209.404779  24.185898  0.764825 -0.595221  24.193221\n",
       "1  sn_ipw  209.597428   4.841999  0.153117 -0.402572   4.858705"
      ]
     },
     "execution_count": 8,
     "metadata": {},
     "output_type": "execute_result"
    }
   ],
   "source": [
    "get_estimator_stats(estimates, true_mean=210)"
   ]
  },
  {
   "cell_type": "markdown",
   "metadata": {},
   "source": [
    "**PART D:** Show that for the ipw estimator, the estimates of SD, bias, and RMSE are compatible in terms of the bias-variance decomposition identity."
   ]
  },
  {
   "cell_type": "markdown",
   "metadata": {},
   "source": [
    "We can see that ipw has higher variance than sn_ipw and its error is dominated by the high variance. Also, we can see that for ipw it is true that $\\text{RMSE}^2 \\approx \\text{SD}^2 + \\text{bias}^2.$"
   ]
  },
  {
   "cell_type": "markdown",
   "metadata": {},
   "source": [
    "### Problem 2"
   ]
  },
  {
   "cell_type": "markdown",
   "metadata": {},
   "source": [
    "**PART A:** Graph the scatterplot of the IPW estimate vs total_weight across trials recorded in the results dataframe from Problem 1. *Do the same* for the self-normalized IPW estimate.  Report the correlation for each. Briefly describe your findings."
   ]
  },
  {
   "cell_type": "code",
   "execution_count": 9,
   "metadata": {},
   "outputs": [],
   "source": [
    "estimates[\"total_weight\"] = total_weights"
   ]
  },
  {
   "cell_type": "code",
   "execution_count": 51,
   "metadata": {},
   "outputs": [
    {
     "data": {
      "text/plain": [
       "<seaborn.axisgrid.JointGrid at 0x208ced57eb0>"
      ]
     },
     "execution_count": 51,
     "metadata": {},
     "output_type": "execute_result"
    },
    {
     "data": {
      "image/png": "[encoded data removed]",
      "text/plain": [
       "<Figure size 432x432 with 3 Axes>"
      ]
     },
     "metadata": {
      "needs_background": "light"
     },
     "output_type": "display_data"
    }
   ],
   "source": [
    "sns.jointplot(data=estimates, x='total_weight', y='ipw', kind=\"reg\", x_jitter=0, scatter_kws={\"s\": 1})"
   ]
  },
  {
   "cell_type": "code",
   "execution_count": 52,
   "metadata": {},
   "outputs": [
    {
     "data": {
      "text/plain": [
       "<seaborn.axisgrid.JointGrid at 0x208cdd942b0>"
      ]
     },
     "execution_count": 52,
     "metadata": {},
     "output_type": "execute_result"
    },
    {
     "data": {
      "image/png": "[encoded data removed]",
      "text/plain": [
       "<Figure size 432x432 with 3 Axes>"
      ]
     },
     "metadata": {
      "needs_background": "light"
     },
     "output_type": "display_data"
    }
   ],
   "source": [
    "sns.jointplot(data=estimates, x='total_weight', y='sn_ipw', kind=\"reg\", x_jitter=0, scatter_kws={\"s\": 1})"
   ]
  },
  {
   "cell_type": "code",
   "execution_count": 10,
   "metadata": {},
   "outputs": [
    {
     "data": {
      "text/plain": [
       "0.9841330700208994"
      ]
     },
     "execution_count": 10,
     "metadata": {},
     "output_type": "execute_result"
    }
   ],
   "source": [
    "estimates['total_weight'].corr(estimates['ipw'])"
   ]
  },
  {
   "cell_type": "code",
   "execution_count": 11,
   "metadata": {},
   "outputs": [
    {
     "data": {
      "text/plain": [
       "0.5033241371884397"
      ]
     },
     "execution_count": 11,
     "metadata": {},
     "output_type": "execute_result"
    }
   ],
   "source": [
    "estimates['total_weight'].corr(estimates['sn_ipw'])"
   ]
  },
  {
   "cell_type": "markdown",
   "metadata": {},
   "source": [
    "Correlation for ipw and sn_ipw are $0.98$ and $0.5$ respectively. We can see that sn_ipw suffers less from the effects of having different amount of observations. Its estimate is not affected by that."
   ]
  },
  {
   "cell_type": "markdown",
   "metadata": {},
   "source": [
    "### Problem 3\n",
    "\n",
    "In the previous problems, we used the true propensities that our dataset generator provided us in the (`obs_prob`) column. In this problem, we'll investigate the impact of estimating the propensity score function from data, both for a \"correct\" model and an \"incorrect\" model.  "
   ]
  },
  {
   "cell_type": "markdown",
   "metadata": {},
   "source": [
    "**PART A:** Following the pattern in Problems 1.B and 1.C above, compare the performance of the IPW estimator using the true propensities to the performance using propensities predicted by a logistic regression model fit to the $z_i$'s. Also compare to a logistic regression model fit to the $x_i$'s.  Repeat the comparison for the self-normalized IPW estimator. Summarize your findings. [Hint: Figuring out a good naming convention for these estimators is no joke.  We like to use ipw_t for IPW using the true propensities, ipw_lr_x for IPW using a logistic regression estimate of propensity with the $x_i$ covariates.  Then sn_ipw_rf_z when we're using self-normalized IPW with a random forest propensity model based on covariate $z$.]"
   ]
  },
  {
   "cell_type": "code",
   "execution_count": 98,
   "metadata": {},
   "outputs": [
    {
     "name": "stderr",
     "output_type": "stream",
     "text": [
      "100%|██████████████████████████████████████████████████████████████████████████████| 1000/1000 [00:21<00:00, 46.68it/s]\n"
     ]
    }
   ],
   "source": [
    "from tqdm import tqdm\n",
    "\n",
    "data = []\n",
    "for i in tqdm(range(1000)):\n",
    "    s = sampler.sample(n=200)\n",
    "    model_Z = LogisticRegression(penalty=\"none\", max_iter=500)\n",
    "    model_X = LogisticRegression(penalty=\"none\", max_iter=500)\n",
    "    Z = s[[\"z1\",\"z2\",\"z3\",\"z4\"]]\n",
    "    X = s[[\"x1\",\"x2\",\"x3\",\"x4\"]]\n",
    "    y = s.obs.astype(int)\n",
    "    model_Z.fit(Z, y)\n",
    "    model_X.fit(X, y)\n",
    "    s[\"obs_prob_Z\"] = model_Z.predict_proba(Z)[:, 1]\n",
    "    s[\"obs_prob_X\"] = model_X.predict_proba(X)[:, 1]\n",
    "    d_ipw_true = ipw_estimators(s.obs_prob, s.obs, s.y)\n",
    "    d_ipw_z = ipw_estimators(s.obs_prob_Z, s.obs, s.y)\n",
    "    d_ipw_x = ipw_estimators(s.obs_prob_X, s.obs, s.y)\n",
    "    data.append((d_ipw_true[\"ipw\"], d_ipw_true[\"sn_ipw\"],\\\n",
    "                 d_ipw_z[\"ipw\"], d_ipw_z[\"sn_ipw\"], \\\n",
    "                 d_ipw_x[\"ipw\"], d_ipw_x[\"sn_ipw\"]))\n",
    "    "
   ]
  },
  {
   "cell_type": "code",
   "execution_count": 99,
   "metadata": {},
   "outputs": [],
   "source": [
    "estimates = pd.DataFrame.from_records(data, columns=[\"ipw_t\", \"sn_ipw_t\", \"ipw_lr_z\", \"sn_ipw_lr_z\", \"ipw_lr_x\", \"sn_ipw_lr_x\"])"
   ]
  },
  {
   "cell_type": "code",
   "execution_count": 100,
   "metadata": {},
   "outputs": [
    {
     "data": {
      "text/html": [
       "<div>\n",
       "<style scoped>\n",
       "    .dataframe tbody tr th:only-of-type {\n",
       "        vertical-align: middle;\n",
       "    }\n",
       "\n",
       "    .dataframe tbody tr th {\n",
       "        vertical-align: top;\n",
       "    }\n",
       "\n",
       "    .dataframe thead th {\n",
       "        text-align: right;\n",
       "    }\n",
       "</style>\n",
       "<table border=\"1\" class=\"dataframe\">\n",
       "  <thead>\n",
       "    <tr style=\"text-align: right;\">\n",
       "      <th></th>\n",
       "      <th>stat</th>\n",
       "      <th>mean</th>\n",
       "      <th>SD</th>\n",
       "      <th>SE</th>\n",
       "      <th>bias</th>\n",
       "      <th>RMSE</th>\n",
       "    </tr>\n",
       "  </thead>\n",
       "  <tbody>\n",
       "    <tr>\n",
       "      <th>0</th>\n",
       "      <td>ipw_t</td>\n",
       "      <td>209.565876</td>\n",
       "      <td>23.427887</td>\n",
       "      <td>0.740855</td>\n",
       "      <td>-0.434124</td>\n",
       "      <td>23.431909</td>\n",
       "    </tr>\n",
       "    <tr>\n",
       "      <th>1</th>\n",
       "      <td>sn_ipw_t</td>\n",
       "      <td>209.568100</td>\n",
       "      <td>4.729840</td>\n",
       "      <td>0.149571</td>\n",
       "      <td>-0.431900</td>\n",
       "      <td>4.749519</td>\n",
       "    </tr>\n",
       "    <tr>\n",
       "      <th>2</th>\n",
       "      <td>ipw_lr_z</td>\n",
       "      <td>209.581466</td>\n",
       "      <td>12.461834</td>\n",
       "      <td>0.394078</td>\n",
       "      <td>-0.418534</td>\n",
       "      <td>12.468860</td>\n",
       "    </tr>\n",
       "    <tr>\n",
       "      <th>3</th>\n",
       "      <td>sn_ipw_lr_z</td>\n",
       "      <td>209.760391</td>\n",
       "      <td>3.902717</td>\n",
       "      <td>0.123415</td>\n",
       "      <td>-0.239609</td>\n",
       "      <td>3.910066</td>\n",
       "    </tr>\n",
       "    <tr>\n",
       "      <th>4</th>\n",
       "      <td>ipw_lr_x</td>\n",
       "      <td>228.617228</td>\n",
       "      <td>88.299065</td>\n",
       "      <td>2.792262</td>\n",
       "      <td>18.617228</td>\n",
       "      <td>90.240379</td>\n",
       "    </tr>\n",
       "    <tr>\n",
       "      <th>5</th>\n",
       "      <td>sn_ipw_lr_x</td>\n",
       "      <td>211.381158</td>\n",
       "      <td>8.096871</td>\n",
       "      <td>0.256046</td>\n",
       "      <td>1.381158</td>\n",
       "      <td>8.213825</td>\n",
       "    </tr>\n",
       "  </tbody>\n",
       "</table>\n",
       "</div>"
      ],
      "text/plain": [
       "          stat        mean         SD        SE       bias       RMSE\n",
       "0        ipw_t  209.565876  23.427887  0.740855  -0.434124  23.431909\n",
       "1     sn_ipw_t  209.568100   4.729840  0.149571  -0.431900   4.749519\n",
       "2     ipw_lr_z  209.581466  12.461834  0.394078  -0.418534  12.468860\n",
       "3  sn_ipw_lr_z  209.760391   3.902717  0.123415  -0.239609   3.910066\n",
       "4     ipw_lr_x  228.617228  88.299065  2.792262  18.617228  90.240379\n",
       "5  sn_ipw_lr_x  211.381158   8.096871  0.256046   1.381158   8.213825"
      ]
     },
     "execution_count": 100,
     "metadata": {},
     "output_type": "execute_result"
    }
   ],
   "source": [
    "get_estimator_stats(estimates, true_mean=210)"
   ]
  },
  {
   "cell_type": "markdown",
   "metadata": {},
   "source": [
    "From the above result, we can confirm that in the logistics regression case, $x$ is a worse choice than $z$, because we know that logistics regression cannot capture the nonlinear dependence on $x$. Also, sn_ipw performs better than ipw as expected."
   ]
  },
  {
   "cell_type": "markdown",
   "metadata": {},
   "source": [
    "**PART B:** In this part we're going to try to get better performance using only the $x_i$'s for our propensity model.  Try using a nonlinear model (e.g. random forest, gradient boosted trees, etc...) to fit the propensity score function. Compare results using IPW and SN_IPW with both logistic regression and your nonlinear model for the propensity score function.  Summarize your findings."
   ]
  },
  {
   "cell_type": "code",
   "execution_count": 95,
   "metadata": {},
   "outputs": [
    {
     "name": "stderr",
     "output_type": "stream",
     "text": [
      "100%|██████████████████████████████████████████████████████████████████████████████| 1000/1000 [01:56<00:00,  8.60it/s]\n"
     ]
    }
   ],
   "source": [
    "from tqdm import tqdm\n",
    "\n",
    "data = []\n",
    "for i in tqdm(range(1000)):\n",
    "    s = sampler.sample(n=200)\n",
    "    model_X = LogisticRegression(penalty=\"none\", max_iter=500)\n",
    "    model_nonlinear = RandomForestClassifier()\n",
    "    X = s[[\"x1\",\"x2\",\"x3\",\"x4\"]]\n",
    "    y = s.obs.astype(int)\n",
    "    model_X.fit(X, y)\n",
    "    model_nonlinear.fit(X, y)\n",
    "    s[\"obs_prob_X\"] = model_X.predict_proba(X)[:, 1]\n",
    "    s[\"obs_prob_X_nonlinear\"] = model_nonlinear.predict_proba(X)[:, 1]\n",
    "    d_ipw_true = ipw_estimators(s.obs_prob, s.obs, s.y)\n",
    "    d_ipw_x = ipw_estimators(s.obs_prob_X, s.obs, s.y)\n",
    "    d_ipw_x_nonlinear = ipw_estimators(s.obs_prob_X_nonlinear, s.obs, s.y)\n",
    "    data.append((d_ipw_true[\"ipw\"], d_ipw_true[\"sn_ipw\"],\\\n",
    "                 d_ipw_x_nonlinear[\"ipw\"], d_ipw_x_nonlinear[\"sn_ipw\"], \\\n",
    "                 d_ipw_x[\"ipw\"], d_ipw_x[\"sn_ipw\"]))\n",
    "    "
   ]
  },
  {
   "cell_type": "code",
   "execution_count": 96,
   "metadata": {},
   "outputs": [],
   "source": [
    "estimates = pd.DataFrame.from_records(data, columns=[\"ipw_t\", \"sn_ipw_t\", \"ipw_rf_x\", \"sn_ipw_rf_x\", \"ipw_lr_x\", \"sn_ipw_lr_x\"])"
   ]
  },
  {
   "cell_type": "code",
   "execution_count": 97,
   "metadata": {},
   "outputs": [
    {
     "data": {
      "text/html": [
       "<div>\n",
       "<style scoped>\n",
       "    .dataframe tbody tr th:only-of-type {\n",
       "        vertical-align: middle;\n",
       "    }\n",
       "\n",
       "    .dataframe tbody tr th {\n",
       "        vertical-align: top;\n",
       "    }\n",
       "\n",
       "    .dataframe thead th {\n",
       "        text-align: right;\n",
       "    }\n",
       "</style>\n",
       "<table border=\"1\" class=\"dataframe\">\n",
       "  <thead>\n",
       "    <tr style=\"text-align: right;\">\n",
       "      <th></th>\n",
       "      <th>stat</th>\n",
       "      <th>mean</th>\n",
       "      <th>SD</th>\n",
       "      <th>SE</th>\n",
       "      <th>bias</th>\n",
       "      <th>RMSE</th>\n",
       "    </tr>\n",
       "  </thead>\n",
       "  <tbody>\n",
       "    <tr>\n",
       "      <th>0</th>\n",
       "      <td>ipw_t</td>\n",
       "      <td>209.070571</td>\n",
       "      <td>22.630812</td>\n",
       "      <td>0.715649</td>\n",
       "      <td>-0.929429</td>\n",
       "      <td>22.649890</td>\n",
       "    </tr>\n",
       "    <tr>\n",
       "      <th>1</th>\n",
       "      <td>sn_ipw_t</td>\n",
       "      <td>209.804915</td>\n",
       "      <td>5.074324</td>\n",
       "      <td>0.160464</td>\n",
       "      <td>-0.195085</td>\n",
       "      <td>5.078072</td>\n",
       "    </tr>\n",
       "    <tr>\n",
       "      <th>2</th>\n",
       "      <td>ipw_rf_x</td>\n",
       "      <td>120.622992</td>\n",
       "      <td>7.004204</td>\n",
       "      <td>0.221492</td>\n",
       "      <td>-89.377008</td>\n",
       "      <td>89.651037</td>\n",
       "    </tr>\n",
       "    <tr>\n",
       "      <th>3</th>\n",
       "      <td>sn_ipw_rf_x</td>\n",
       "      <td>201.241274</td>\n",
       "      <td>3.445104</td>\n",
       "      <td>0.108944</td>\n",
       "      <td>-8.758726</td>\n",
       "      <td>9.411908</td>\n",
       "    </tr>\n",
       "    <tr>\n",
       "      <th>4</th>\n",
       "      <td>ipw_lr_x</td>\n",
       "      <td>231.600021</td>\n",
       "      <td>106.800175</td>\n",
       "      <td>3.377318</td>\n",
       "      <td>21.600021</td>\n",
       "      <td>108.962555</td>\n",
       "    </tr>\n",
       "    <tr>\n",
       "      <th>5</th>\n",
       "      <td>sn_ipw_lr_x</td>\n",
       "      <td>211.989101</td>\n",
       "      <td>9.281065</td>\n",
       "      <td>0.293493</td>\n",
       "      <td>1.989101</td>\n",
       "      <td>9.491822</td>\n",
       "    </tr>\n",
       "  </tbody>\n",
       "</table>\n",
       "</div>"
      ],
      "text/plain": [
       "          stat        mean          SD        SE       bias        RMSE\n",
       "0        ipw_t  209.070571   22.630812  0.715649  -0.929429   22.649890\n",
       "1     sn_ipw_t  209.804915    5.074324  0.160464  -0.195085    5.078072\n",
       "2     ipw_rf_x  120.622992    7.004204  0.221492 -89.377008   89.651037\n",
       "3  sn_ipw_rf_x  201.241274    3.445104  0.108944  -8.758726    9.411908\n",
       "4     ipw_lr_x  231.600021  106.800175  3.377318  21.600021  108.962555\n",
       "5  sn_ipw_lr_x  211.989101    9.281065  0.293493   1.989101    9.491822"
      ]
     },
     "execution_count": 97,
     "metadata": {},
     "output_type": "execute_result"
    }
   ],
   "source": [
    "get_estimator_stats(estimates, true_mean=210)"
   ]
  },
  {
   "cell_type": "markdown",
   "metadata": {},
   "source": [
    "Surprisingly using non-linear models actually give out worse performance than logsitic regression."
   ]
  }
 ],
 "metadata": {
  "kernelspec": {
   "display_name": "Python 3",
   "language": "python",
   "name": "python3"
  },
  "language_info": {
   "codemirror_mode": {
    "name": "ipython",
    "version": 3
   },
   "file_extension": ".py",
   "mimetype": "text/x-python",
   "name": "python",
   "nbconvert_exporter": "python",
   "pygments_lexer": "ipython3",
   "version": "3.8.5"
  }
 },
 "nbformat": 4,
 "nbformat_minor": 4
}
